{
 "cells": [
  {
   "cell_type": "code",
   "execution_count": null,
   "id": "f46236bf-dafd-4cd5-ad84-6526579c6886",
   "metadata": {},
   "outputs": [],
   "source": [
    "import pandas as pd\n",
    "import numpy as np\n",
    "import seaborn as sns\n",
    "import matplotlib.pyplot as plt\n",
    "from sklearn.preprocessing import StandardScaler\n",
    "\n",
    "\n",
    "df = pd.read_csv('xyz-Dataset.csv')\n",
    "print(df.head())\n",
    "print(df.info())\n",
    "\n",
    "\n",
    "df['Age'] = df['Age'].fillna(df['Age'].mean())\n",
    "df['Embarked'] = df['Embarked'].fillna(df['Embarked'].mode()[0])\n",
    "df = df.drop('Cabin', axis=1)\n",
    "\n",
    "# Encode categoric\n",
    "df['Sex'] = df['Sex'].map({'male': 0, 'female': 1})\n",
    "df = pd.get_dummies(df, columns=['Embarked'], drop_first=True)\n",
    "\n",
    "\n",
    "scaler = StandardScaler()\n",
    "df[['Age', 'Fare']] = scaler.fit_transform(df[['Age', 'Fare']])\n",
    "print(df.head())\n",
    "\n",
    "\n",
    "sns.countplot(x='Survived', data=df)\n",
    "plt.title('Survival Count')\n",
    "plt.show()\n",
    "\n",
    "\n",
    "sns.countplot(x='Sex', hue='Survived', data=df)\n",
    "plt.xticks([0, 1], ['Male', 'Female'])\n",
    "plt.title('Survival by Gender')\n",
    "plt.show()\n",
    "\n",
    "\n",
    "df.to_csv('titanic_cleaned_easy.csv', index=False)\n",
    "print(\"Saved as titanic_cleaned_easy.csv\")"
   ]
  }
 ],
 "metadata": {
  "kernelspec": {
   "display_name": "Python 3 (ipykernel)",
   "language": "python",
   "name": "python3"
  },
  "language_info": {
   "codemirror_mode": {
    "name": "ipython",
    "version": 3
   },
   "file_extension": ".py",
   "mimetype": "text/x-python",
   "name": "python",
   "nbconvert_exporter": "python",
   "pygments_lexer": "ipython3",
   "version": "3.12.7"
  }
 },
 "nbformat": 4,
 "nbformat_minor": 5
}
